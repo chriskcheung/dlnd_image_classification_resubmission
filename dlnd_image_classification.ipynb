{
 "cells": [
  {
   "cell_type": "markdown",
   "metadata": {
    "collapsed": true,
    "deletable": true,
    "editable": true
   },
   "source": [
    "# Image Classification\n",
    "In this project, you'll classify images from the [CIFAR-10 dataset](https://www.cs.toronto.edu/~kriz/cifar.html).  The dataset consists of airplanes, dogs, cats, and other objects. You'll preprocess the images, then train a convolutional neural network on all the samples. The images need to be normalized and the labels need to be one-hot encoded.  You'll get to apply what you learned and build a convolutional, max pooling, dropout, and fully connected layers.  At the end, you'll get to see your neural network's predictions on the sample images.\n",
    "## Get the Data\n",
    "Run the following cell to download the [CIFAR-10 dataset for python](https://www.cs.toronto.edu/~kriz/cifar-10-python.tar.gz)."
   ]
  },
  {
   "cell_type": "code",
   "execution_count": 1,
   "metadata": {
    "collapsed": false,
    "deletable": true,
    "editable": true
   },
   "outputs": [
    {
     "name": "stderr",
     "output_type": "stream",
     "text": [
      "CIFAR-10 Dataset: 171MB [02:04, 1.37MB/s]                                      \n"
     ]
    },
    {
     "name": "stdout",
     "output_type": "stream",
     "text": [
      "All files found!\n"
     ]
    }
   ],
   "source": [
    "\"\"\"\n",
    "DON'T MODIFY ANYTHING IN THIS CELL THAT IS BELOW THIS LINE\n",
    "\"\"\"\n",
    "from urllib.request import urlretrieve\n",
    "from os.path import isfile, isdir\n",
    "from tqdm import tqdm\n",
    "import problem_unittests as tests\n",
    "import tarfile\n",
    "\n",
    "cifar10_dataset_folder_path = 'cifar-10-batches-py'\n",
    "\n",
    "class DLProgress(tqdm):\n",
    "    last_block = 0\n",
    "\n",
    "    def hook(self, block_num=1, block_size=1, total_size=None):\n",
    "        self.total = total_size\n",
    "        self.update((block_num - self.last_block) * block_size)\n",
    "        self.last_block = block_num\n",
    "\n",
    "if not isfile('cifar-10-python.tar.gz'):\n",
    "    with DLProgress(unit='B', unit_scale=True, miniters=1, desc='CIFAR-10 Dataset') as pbar:\n",
    "        urlretrieve(\n",
    "            'https://www.cs.toronto.edu/~kriz/cifar-10-python.tar.gz',\n",
    "            'cifar-10-python.tar.gz',\n",
    "            pbar.hook)\n",
    "\n",
    "if not isdir(cifar10_dataset_folder_path):\n",
    "    with tarfile.open('cifar-10-python.tar.gz') as tar:\n",
    "        tar.extractall()\n",
    "        tar.close()\n",
    "\n",
    "\n",
    "tests.test_folder_path(cifar10_dataset_folder_path)"
   ]
  },
  {
   "cell_type": "markdown",
   "metadata": {
    "deletable": true,
    "editable": true
   },
   "source": [
    "## Explore the Data\n",
    "The dataset is broken into batches to prevent your machine from running out of memory.  The CIFAR-10 dataset consists of 5 batches, named `data_batch_1`, `data_batch_2`, etc.. Each batch contains the labels and images that are one of the following:\n",
    "* airplane\n",
    "* automobile\n",
    "* bird\n",
    "* cat\n",
    "* deer\n",
    "* dog\n",
    "* frog\n",
    "* horse\n",
    "* ship\n",
    "* truck\n",
    "\n",
    "Understanding a dataset is part of making predictions on the data.  Play around with the code cell below by changing the `batch_id` and `sample_id`. The `batch_id` is the id for a batch (1-5). The `sample_id` is the id for a image and label pair in the batch.\n",
    "\n",
    "Ask yourself \"What are all possible labels?\", \"What is the range of values for the image data?\", \"Are the labels in order or random?\".  Answers to questions like these will help you preprocess the data and end up with better predictions."
   ]
  },
  {
   "cell_type": "code",
   "execution_count": 3,
   "metadata": {
    "collapsed": false,
    "deletable": true,
    "editable": true
   },
   "outputs": [
    {
     "name": "stdout",
     "output_type": "stream",
     "text": [
      "\n",
      "Stats of batch 5:\n",
      "Samples: 10000\n",
      "Label Counts: {0: 1014, 1: 1014, 2: 952, 3: 1016, 4: 997, 5: 1025, 6: 980, 7: 977, 8: 1003, 9: 1022}\n",
      "First 20 Labels: [1, 8, 5, 1, 5, 7, 4, 3, 8, 2, 7, 2, 0, 1, 5, 9, 6, 2, 0, 8]\n",
      "\n",
      "Example of Image 1:\n",
      "Image - Min Value: 1 Max Value: 244\n",
      "Image - Shape: (32, 32, 3)\n",
      "Label - Label Id: 8 Name: ship\n"
     ]
    },
    {
     "data": {
      "image/png": "[encoded data removed]",
      "text/plain": [
       "<matplotlib.figure.Figure at 0x17eca292e8>"
      ]
     },
     "metadata": {
      "image/png": {
       "height": 250,
       "width": 253
      }
     },
     "output_type": "display_data"
    }
   ],
   "source": [
    "%matplotlib inline\n",
    "%config InlineBackend.figure_format = 'retina'\n",
    "\n",
    "import helper\n",
    "import numpy as np\n",
    "\n",
    "# Explore the dataset\n",
    "batch_id = 5\n",
    "sample_id = 1\n",
    "helper.display_stats(cifar10_dataset_folder_path, batch_id, sample_id)"
   ]
  },
  {
   "cell_type": "markdown",
   "metadata": {
    "deletable": true,
    "editable": true
   },
   "source": [
    "## Implement Preprocess Functions\n",
    "### Normalize\n",
    "In the cell below, implement the `normalize` function to take in image data, `x`, and return it as a normalized Numpy array. The values should be in the range of 0 to 1, inclusive.  The return object should be the same shape as `x`."
   ]
  },
  {
   "cell_type": "code",
   "execution_count": null,
   "metadata": {
    "collapsed": true,
    "deletable": true,
    "editable": true
   },
   "outputs": [],
   "source": []
  },
  {
   "cell_type": "code",
   "execution_count": 44,
   "metadata": {
    "collapsed": false,
    "deletable": true,
    "editable": true
   },
   "outputs": [
    {
     "name": "stdout",
     "output_type": "stream",
     "text": [
      "Tests Passed\n"
     ]
    }
   ],
   "source": [
    "def normalize(x):\n",
    "    \"\"\"\n",
    "    Normalize a list of sample image data in the range of 0 to 1\n",
    "    : x: List of image data.  The image shape is (32, 32, 3)\n",
    "    : return: Numpy array of normalize data\n",
    "    \"\"\"\n",
    "    # TODO: Implement Function\n",
    "    #a = 0.\n",
    "    #b = 1.\n",
    "    #_min = 0\n",
    "    #_max = 255\n",
    "    #return a + ( ( (x - _min)*(b - a) )/( _max - _min ) )\n",
    "    return x/np.max(x)\n",
    "\n",
    "\n",
    "\"\"\"\n",
    "DON'T MODIFY ANYTHING IN THIS CELL THAT IS BELOW THIS LINE\n",
    "\"\"\"\n",
    "tests.test_normalize(normalize)"
   ]
  },
  {
   "cell_type": "markdown",
   "metadata": {
    "deletable": true,
    "editable": true
   },
   "source": [
    "### One-hot encode\n",
    "Just like the previous code cell, you'll be implementing a function for preprocessing.  This time, you'll implement the `one_hot_encode` function. The input, `x`, are a list of labels.  Implement the function to return the list of labels as One-Hot encoded Numpy array.  The possible values for labels are 0 to 9. The one-hot encoding function should return the same encoding for each value between each call to `one_hot_encode`.  Make sure to save the map of encodings outside the function.\n",
    "\n",
    "Hint: Don't reinvent the wheel."
   ]
  },
  {
   "cell_type": "code",
   "execution_count": 45,
   "metadata": {
    "collapsed": false,
    "deletable": true,
    "editable": true
   },
   "outputs": [
    {
     "name": "stdout",
     "output_type": "stream",
     "text": [
      "Tests Passed\n"
     ]
    }
   ],
   "source": [
    "def one_hot_encode(x):\n",
    "    \"\"\"\n",
    "    One hot encode a list of sample labels. Return a one-hot encoded vector for each label.\n",
    "    : x: List of sample Labels\n",
    "    : return: Numpy array of one-hot encoded labels\n",
    "    \"\"\"\n",
    "    # TODO: Implement Function\n",
    "    one_hot_array = np.zeros((len(x),10), int)\n",
    "    #print(one_hot_array[0])\n",
    "    #print(one_hot_array[:10])\n",
    "    #print(x)\n",
    "    j=0\n",
    "    for i in x:\n",
    "        one_hot_vector = np.zeros(10, int)\n",
    "        one_hot_vector[i] = 1\n",
    "        one_hot_array[j] = one_hot_vector\n",
    "        j += 1\n",
    "    #print(one_hot_array[:100])\n",
    "    return np.array(one_hot_array)\n",
    "\n",
    "\n",
    "\"\"\"\n",
    "DON'T MODIFY ANYTHING IN THIS CELL THAT IS BELOW THIS LINE\n",
    "\"\"\"\n",
    "tests.test_one_hot_encode(one_hot_encode)"
   ]
  },
  {
   "cell_type": "markdown",
   "metadata": {
    "deletable": true,
    "editable": true
   },
   "source": [
    "### Randomize Data\n",
    "As you saw from exploring the data above, the order of the samples are randomized.  It doesn't hurt to randomize it again, but you don't need to for this dataset."
   ]
  },
  {
   "cell_type": "markdown",
   "metadata": {
    "deletable": true,
    "editable": true
   },
   "source": [
    "## Preprocess all the data and save it\n",
    "Running the code cell below will preprocess all the CIFAR-10 data and save it to file. The code below also uses 10% of the training data for validation."
   ]
  },
  {
   "cell_type": "code",
   "execution_count": 46,
   "metadata": {
    "collapsed": false,
    "deletable": true,
    "editable": true
   },
   "outputs": [],
   "source": [
    "\"\"\"\n",
    "DON'T MODIFY ANYTHING IN THIS CELL\n",
    "\"\"\"\n",
    "# Preprocess Training, Validation, and Testing Data\n",
    "helper.preprocess_and_save_data(cifar10_dataset_folder_path, normalize, one_hot_encode)"
   ]
  },
  {
   "cell_type": "markdown",
   "metadata": {
    "deletable": true,
    "editable": true
   },
   "source": [
    "# Check Point\n",
    "This is your first checkpoint.  If you ever decide to come back to this notebook or have to restart the notebook, you can start from here.  The preprocessed data has been saved to disk."
   ]
  },
  {
   "cell_type": "code",
   "execution_count": 47,
   "metadata": {
    "collapsed": true,
    "deletable": true,
    "editable": true
   },
   "outputs": [],
   "source": [
    "\"\"\"\n",
    "DON'T MODIFY ANYTHING IN THIS CELL\n",
    "\"\"\"\n",
    "import pickle\n",
    "import problem_unittests as tests\n",
    "import helper\n",
    "\n",
    "# Load the Preprocessed Validation data\n",
    "valid_features, valid_labels = pickle.load(open('preprocess_validation.p', mode='rb'))"
   ]
  },
  {
   "cell_type": "markdown",
   "metadata": {
    "deletable": true,
    "editable": true
   },
   "source": [
    "## Build the network\n",
    "For the neural network, you'll build each layer into a function.  Most of the code you've seen has been outside of functions. To test your code more thoroughly, we require that you put each layer in a function.  This allows us to give you better feedback and test for simple mistakes using our unittests before you submit your project.\n",
    "\n",
    ">**Note:** If you're finding it hard to dedicate enough time for this course each week, we've provided a small shortcut to this part of the project. In the next couple of problems, you'll have the option to use classes from the [TensorFlow Layers](https://www.tensorflow.org/api_docs/python/tf/layers) or [TensorFlow Layers (contrib)](https://www.tensorflow.org/api_guides/python/contrib.layers) packages to build each layer, except the layers you build in the \"Convolutional and Max Pooling Layer\" section.  TF Layers is similar to Keras's and TFLearn's abstraction to layers, so it's easy to pickup.\n",
    "\n",
    ">However, if you would like to get the most out of this course, try to solve all the problems _without_ using anything from the TF Layers packages. You **can** still use classes from other packages that happen to have the same name as ones you find in TF Layers! For example, instead of using the TF Layers version of the `conv2d` class, [tf.layers.conv2d](https://www.tensorflow.org/api_docs/python/tf/layers/conv2d), you would want to use the TF Neural Network version of `conv2d`, [tf.nn.conv2d](https://www.tensorflow.org/api_docs/python/tf/nn/conv2d). \n",
    "\n",
    "Let's begin!\n",
    "\n",
    "### Input\n",
    "The neural network needs to read the image data, one-hot encoded labels, and dropout keep probability. Implement the following functions\n",
    "* Implement `neural_net_image_input`\n",
    " * Return a [TF Placeholder](https://www.tensorflow.org/api_docs/python/tf/placeholder)\n",
    " * Set the shape using `image_shape` with batch size set to `None`.\n",
    " * Name the TensorFlow placeholder \"x\" using the TensorFlow `name` parameter in the [TF Placeholder](https://www.tensorflow.org/api_docs/python/tf/placeholder).\n",
    "* Implement `neural_net_label_input`\n",
    " * Return a [TF Placeholder](https://www.tensorflow.org/api_docs/python/tf/placeholder)\n",
    " * Set the shape using `n_classes` with batch size set to `None`.\n",
    " * Name the TensorFlow placeholder \"y\" using the TensorFlow `name` parameter in the [TF Placeholder](https://www.tensorflow.org/api_docs/python/tf/placeholder).\n",
    "* Implement `neural_net_keep_prob_input`\n",
    " * Return a [TF Placeholder](https://www.tensorflow.org/api_docs/python/tf/placeholder) for dropout keep probability.\n",
    " * Name the TensorFlow placeholder \"keep_prob\" using the TensorFlow `name` parameter in the [TF Placeholder](https://www.tensorflow.org/api_docs/python/tf/placeholder).\n",
    "\n",
    "These names will be used at the end of the project to load your saved model.\n",
    "\n",
    "Note: `None` for shapes in TensorFlow allow for a dynamic size."
   ]
  },
  {
   "cell_type": "code",
   "execution_count": 98,
   "metadata": {
    "collapsed": false,
    "deletable": true,
    "editable": true
   },
   "outputs": [
    {
     "name": "stdout",
     "output_type": "stream",
     "text": [
      "image shape\n",
      "(32, 32, 3)\n",
      "Image Input Tests Passed.\n",
      "classes\n",
      "10\n",
      "Label Input Tests Passed.\n",
      "Keep Prob Tests Passed.\n"
     ]
    }
   ],
   "source": [
    "import tensorflow as tf\n",
    "_stddev = 0.01\n",
    "_mean = 0\n",
    "_dropout = 0.5\n",
    "\n",
    "\n",
    "def neural_net_image_input(image_shape):\n",
    "    \"\"\"\n",
    "    Return a Tensor for a bach of image input\n",
    "    : image_shape: Shape of the images\n",
    "    : return: Tensor for image input.\n",
    "    \"\"\"\n",
    "    # TODO: Implement Function\n",
    "    print(\"image shape\")\n",
    "    print(image_shape[:10])\n",
    "    return tf.placeholder(tf.float32, \n",
    "                          shape=(None, image_shape[0], image_shape[1], image_shape[2]), name=\"x\")\n",
    "    \n",
    "def neural_net_label_input(n_classes):\n",
    "    \"\"\"\n",
    "    Return a Tensor for a batch of label input\n",
    "    : n_classes: Number of classes\n",
    "    : return: Tensor for label input.\n",
    "    \"\"\"\n",
    "    # TODO: Implement Function\n",
    "    print(\"classes\")\n",
    "    print(n_classes)\n",
    "    return tf.placeholder(tf.float32, shape=(None, n_classes), name=\"y\")\n",
    "    \n",
    "\n",
    "def neural_net_keep_prob_input():\n",
    "    \"\"\"\n",
    "    Return a Tensor for keep probability\n",
    "    : return: Tensor for keep probability.\n",
    "    \"\"\"\n",
    "    # TODO: Implement Function\n",
    "    return tf.placeholder(tf.float32, shape=None, name=\"keep_prob\")\n",
    "\n",
    "\n",
    "\"\"\"\n",
    "DON'T MODIFY ANYTHING IN THIS CELL THAT IS BELOW THIS LINE\n",
    "\"\"\"\n",
    "tf.reset_default_graph()\n",
    "tests.test_nn_image_inputs(neural_net_image_input)\n",
    "tests.test_nn_label_inputs(neural_net_label_input)\n",
    "tests.test_nn_keep_prob_inputs(neural_net_keep_prob_input)"
   ]
  },
  {
   "cell_type": "markdown",
   "metadata": {
    "deletable": true,
    "editable": true
   },
   "source": [
    "### Convolution and Max Pooling Layer\n",
    "Convolution layers have a lot of success with images. For this code cell, you should implement the function `conv2d_maxpool` to apply convolution then max pooling:\n",
    "* Create the weight and bias using `conv_ksize`, `conv_num_outputs` and the shape of `x_tensor`.\n",
    "* Apply a convolution to `x_tensor` using weight and `conv_strides`.\n",
    " * We recommend you use same padding, but you're welcome to use any padding.\n",
    "* Add bias\n",
    "* Add a nonlinear activation to the convolution.\n",
    "* Apply Max Pooling using `pool_ksize` and `pool_strides`.\n",
    " * We recommend you use same padding, but you're welcome to use any padding.\n",
    "\n",
    "**Note:** You **can't** use [TensorFlow Layers](https://www.tensorflow.org/api_docs/python/tf/layers) or [TensorFlow Layers (contrib)](https://www.tensorflow.org/api_guides/python/contrib.layers) for **this** layer, but you can still use TensorFlow's [Neural Network](https://www.tensorflow.org/api_docs/python/tf/nn) package. You may still use the shortcut option for all the **other** layers."
   ]
  },
  {
   "cell_type": "code",
   "execution_count": 99,
   "metadata": {
    "collapsed": false,
    "deletable": true,
    "editable": true
   },
   "outputs": [
    {
     "name": "stdout",
     "output_type": "stream",
     "text": [
      "Tests Passed\n"
     ]
    }
   ],
   "source": [
    "def conv2d_maxpool(x_tensor, conv_num_outputs, conv_ksize, conv_strides, pool_ksize, pool_strides):\n",
    "    \"\"\"\n",
    "    Apply convolution then max pooling to x_tensor\n",
    "    :param x_tensor: TensorFlow Tensor\n",
    "    :param conv_num_outputs: Number of outputs for the convolutional layer\n",
    "    :param conv_ksize: kernal size 2-D Tuple for the convolutional layer\n",
    "    :param conv_strides: Stride 2-D Tuple for convolution\n",
    "    :param pool_ksize: kernal size 2-D Tuple for pool\n",
    "    :param pool_strides: Stride 2-D Tuple for pool\n",
    "    : return: A tensor that represents convolution and max pooling of x_tensor\n",
    "    \"\"\"\n",
    "    # TODO: Implement Function\n",
    "    #valid padding 1\n",
    "    padding = 'SAME'\n",
    "    P = 1\n",
    "    \n",
    "    tensor_shape = x_tensor.shape  # 1x32x32x5\n",
    "    input_batch  = tensor_shape[0] # 1\n",
    "    input_height = int(tensor_shape[1]) # 32\n",
    "    input_weight = int(tensor_shape[2]) # 32\n",
    "    input_depth  = int(tensor_shape[3]) # 5\n",
    "    filter_height = int(conv_ksize[0])  # 2\n",
    "    filter_weight = int(conv_ksize[1])  # 2\n",
    "    stride_height = int(conv_strides[0])# 4\n",
    "    stride_weight = int(conv_strides[1])# 4\n",
    "    S = stride_height\n",
    "    strides = [1, stride_height, stride_weight, 1]\n",
    "    \n",
    "    new_height = (input_height - filter_height + 2 * P)/S + 1 #\n",
    "    new_width  = (input_weight - filter_weight + 2 * P)/S + 1 #\n",
    "\n",
    "    weights = tf.Variable(tf.truncated_normal(shape=[filter_height, filter_weight, input_depth, conv_num_outputs], \\\n",
    "                         mean=_mean, stddev=_stddev))\n",
    "    #weights = {\n",
    "    #    'wc1': tf.Variable(tf.random_normal([filter_height, filter_weight, input_depth,      conv_num_outputs]))\n",
    "    #    'wc2': tf.Variable(tf.random_normal([new_height,    new_width,     conv_num_outputs, conv_num_outputs]))\n",
    "    #    'wd1': tf.Variable(tf.random_normal([7*7*64, 1024])),\n",
    "    #    'out': tf.Variable(tf.random_normal([1024, conv_num_outputs]))\n",
    "    #}\n",
    "\n",
    "    #biases = tf.Variable(tf.random_normal([conv_num_outputs]))\n",
    "    biases = tf.Variable(tf.zeros([conv_num_outputs]))\n",
    "    #biases = {\n",
    "    #    'bc1': tf.Variable(tf.random_normal([conv_num_outputs]))\n",
    "    #    'bc2': tf.Variable(tf.random_normal([conv_num_outputs]))\n",
    "    #    'bd1': tf.Variable(tf.random_normal([1024])),\n",
    "    #    'out': tf.Variable(tf.random_normal([conv_num_outputs]))\n",
    "    #}\n",
    "\n",
    "    # apply convolution to x_tensor\n",
    "    x = tf.nn.conv2d(x_tensor, weights, strides, padding)\n",
    "    x = tf.nn.bias_add(x, biases)\n",
    "    conv = tf.nn.relu(x)\n",
    "        \n",
    "    pool_height = int(pool_ksize[0])\n",
    "    pool_weight = int(pool_ksize[1])\n",
    "    pstr_height = int(pool_strides[0])\n",
    "    pstr_weight = int(pool_strides[1])\n",
    "    pool = [1, pool_height, pool_weight, 1]\n",
    "    pstr = [1, pstr_height, pstr_weight, 1]\n",
    "        \n",
    "    # then apply maxpool\n",
    "    return tf.nn.max_pool(conv, pool, pstr, padding) \n",
    "\n",
    "\n",
    "\"\"\"\n",
    "DON'T MODIFY ANYTHING IN THIS CELL THAT IS BELOW THIS LINE\n",
    "\"\"\"\n",
    "tests.test_con_pool(conv2d_maxpool)"
   ]
  },
  {
   "cell_type": "markdown",
   "metadata": {
    "deletable": true,
    "editable": true
   },
   "source": [
    "### Flatten Layer\n",
    "Implement the `flatten` function to change the dimension of `x_tensor` from a 4-D tensor to a 2-D tensor.  The output should be the shape (*Batch Size*, *Flattened Image Size*). Shortcut option: you can use classes from the [TensorFlow Layers](https://www.tensorflow.org/api_docs/python/tf/layers) or [TensorFlow Layers (contrib)](https://www.tensorflow.org/api_guides/python/contrib.layers) packages for this layer. For more of a challenge, only use other TensorFlow packages."
   ]
  },
  {
   "cell_type": "code",
   "execution_count": 100,
   "metadata": {
    "collapsed": false,
    "deletable": true,
    "editable": true
   },
   "outputs": [
    {
     "name": "stdout",
     "output_type": "stream",
     "text": [
      "Tests Passed\n"
     ]
    }
   ],
   "source": [
    "def flatten(x_tensor):\n",
    "    \"\"\"\n",
    "    Flatten x_tensor to (Batch Size, Flattened Image Size)\n",
    "    : x_tensor: A tensor of size (Batch Size, ...), where ... are the image dimensions.\n",
    "    : return: A tensor of size (Batch Size, Flattened Image Size).\n",
    "    \"\"\"\n",
    "    # TODO: Implement Function\n",
    "    #print(x_tensor)\n",
    "    #print(x_tensor.shape)\n",
    "    b,h,w,d = x_tensor.shape\n",
    "    #print(b)\n",
    "    #print(h)\n",
    "    #print(w)\n",
    "    #print(d)\n",
    "    #print(int(h)*int(w)*int(d))\n",
    "    #print tf.reshape(x_tensor, [-1, int(h*w*d)])[:100]\n",
    "    return tf.reshape(x_tensor, [-1, int(h*w*d)])\n",
    "    \n",
    "\"\"\"\n",
    "DON'T MODIFY ANYTHING IN THIS CELL THAT IS BELOW THIS LINE\n",
    "\"\"\"\n",
    "tests.test_flatten(flatten)"
   ]
  },
  {
   "cell_type": "markdown",
   "metadata": {
    "deletable": true,
    "editable": true
   },
   "source": [
    "### Fully-Connected Layer\n",
    "Implement the `fully_conn` function to apply a fully connected layer to `x_tensor` with the shape (*Batch Size*, *num_outputs*). Shortcut option: you can use classes from the [TensorFlow Layers](https://www.tensorflow.org/api_docs/python/tf/layers) or [TensorFlow Layers (contrib)](https://www.tensorflow.org/api_guides/python/contrib.layers) packages for this layer. For more of a challenge, only use other TensorFlow packages."
   ]
  },
  {
   "cell_type": "code",
   "execution_count": 101,
   "metadata": {
    "collapsed": false,
    "deletable": true,
    "editable": true
   },
   "outputs": [
    {
     "name": "stdout",
     "output_type": "stream",
     "text": [
      "Tests Passed\n"
     ]
    }
   ],
   "source": [
    "def fully_conn(x_tensor, num_outputs):\n",
    "    \"\"\"\n",
    "    Apply a fully connected layer to x_tensor using weight and bias\n",
    "    : x_tensor: A 2-D tensor where the first dimension is batch size.\n",
    "    : num_outputs: The number of output that the new tensor should be.\n",
    "    : return: A 2-D tensor where the second dimension is num_outputs.\n",
    "    \"\"\"\n",
    "    # TODO: Implement Function\n",
    "    #print(x_tensor)\n",
    "    #print(num_outputs)\n",
    "    weights_fc = tf.Variable(tf.truncated_normal(shape=[int(x_tensor.shape[1]), num_outputs], \\\n",
    "                             mean=_mean, stddev=_stddev))\n",
    "    biases_fc = tf.Variable(tf.zeros([num_outputs]))\n",
    "    fc1 = tf.add(tf.matmul(x_tensor, weights_fc), biases_fc)\n",
    "    fc1 = tf.nn.relu(fc1)\n",
    "    fc1 = tf.nn.dropout(fc1, _dropout)\n",
    "    return fc1\n",
    "\n",
    "\n",
    "\"\"\"\n",
    "DON'T MODIFY ANYTHING IN THIS CELL THAT IS BELOW THIS LINE\n",
    "\"\"\"\n",
    "tests.test_fully_conn(fully_conn)"
   ]
  },
  {
   "cell_type": "markdown",
   "metadata": {
    "deletable": true,
    "editable": true
   },
   "source": [
    "### Output Layer\n",
    "Implement the `output` function to apply a fully connected layer to `x_tensor` with the shape (*Batch Size*, *num_outputs*). Shortcut option: you can use classes from the [TensorFlow Layers](https://www.tensorflow.org/api_docs/python/tf/layers) or [TensorFlow Layers (contrib)](https://www.tensorflow.org/api_guides/python/contrib.layers) packages for this layer. For more of a challenge, only use other TensorFlow packages.\n",
    "\n",
    "**Note:** Activation, softmax, or cross entropy should **not** be applied to this."
   ]
  },
  {
   "cell_type": "code",
   "execution_count": 102,
   "metadata": {
    "collapsed": false,
    "deletable": true,
    "editable": true
   },
   "outputs": [
    {
     "name": "stdout",
     "output_type": "stream",
     "text": [
      "Tests Passed\n"
     ]
    }
   ],
   "source": [
    "def output(x_tensor, num_outputs):\n",
    "    \"\"\"\n",
    "    Apply a output layer to x_tensor using weight and bias\n",
    "    : x_tensor: A 2-D tensor where the first dimension is batch size.\n",
    "    : num_outputs: The number of output that the new tensor should be.\n",
    "    : return: A 2-D tensor where the second dimension is num_outputs.\n",
    "    \"\"\"\n",
    "    # TODO: Implement Function\n",
    "    weights_out = tf.Variable(tf.truncated_normal(shape=[int(x_tensor.shape[1]), num_outputs], \\\n",
    "                              mean=0, stddev=0.1))\n",
    "    biases_out = tf.Variable(tf.zeros(num_outputs))\n",
    "    out = tf.add(tf.matmul(x_tensor, weights_out), biases_out)\n",
    "    return out\n",
    "\n",
    "\n",
    "\"\"\"\n",
    "DON'T MODIFY ANYTHING IN THIS CELL THAT IS BELOW THIS LINE\n",
    "\"\"\"\n",
    "tests.test_output(output)"
   ]
  },
  {
   "cell_type": "markdown",
   "metadata": {
    "deletable": true,
    "editable": true
   },
   "source": [
    "### Create Convolutional Model\n",
    "Implement the function `conv_net` to create a convolutional neural network model. The function takes in a batch of images, `x`, and outputs logits.  Use the layers you created above to create this model:\n",
    "\n",
    "* Apply 1, 2, or 3 Convolution and Max Pool layers\n",
    "* Apply a Flatten Layer\n",
    "* Apply 1, 2, or 3 Fully Connected Layers\n",
    "* Apply an Output Layer\n",
    "* Return the output\n",
    "* Apply [TensorFlow's Dropout](https://www.tensorflow.org/api_docs/python/tf/nn/dropout) to one or more layers in the model using `keep_prob`. "
   ]
  },
  {
   "cell_type": "code",
   "execution_count": 103,
   "metadata": {
    "collapsed": false,
    "deletable": true,
    "editable": true
   },
   "outputs": [
    {
     "name": "stdout",
     "output_type": "stream",
     "text": [
      "image shape\n",
      "(32, 32, 3)\n",
      "classes\n",
      "10\n",
      "Neural Network Built!\n"
     ]
    }
   ],
   "source": [
    "def conv_net(x, keep_prob):\n",
    "    \"\"\"\n",
    "    Create a convolutional neural network model\n",
    "    : x: Placeholder tensor that holds image data.\n",
    "    : keep_prob: Placeholder tensor that hold dropout keep probability.\n",
    "    : return: Tensor that represents logits\n",
    "    \"\"\"\n",
    "    # TODO: Apply 1, 2, or 3 Convolution and Max Pool layers\n",
    "    #    Play around with different number of outputs, kernel size and stride\n",
    "    # Function Definition from Above:\n",
    "    #    conv2d_maxpool(x_tensor, conv_num_outputs, conv_ksize, conv_strides, pool_ksize, pool_strides)\n",
    "    #\"\"\"\n",
    "    conv_num_outputs = 10\n",
    "    conv_ksize   = [4,4]\n",
    "    conv_strides = [1,1]\n",
    "    pool_ksize   = [2,2]\n",
    "    pool_strides = [2,2]\n",
    "\n",
    "    x1 = conv2d_maxpool(x , 12, conv_ksize, conv_strides, pool_ksize, pool_strides)\n",
    "    x2 = conv2d_maxpool(x1, 24, conv_ksize, conv_strides, pool_ksize, pool_strides)\n",
    "    #x3 = conv2d_maxpool(x2, 48, conv_ksize, conv_strides, pool_ksize, pool_strides)\n",
    "\n",
    "\n",
    "    # TODO: Apply a Flatten Layer\n",
    "    # Function Definition from Above:\n",
    "    #   flatten(x_tensor)\n",
    "    x_flat = flatten(x2)\n",
    "    \n",
    "    \n",
    "\n",
    "    # TODO: Apply 1, 2, or 3 Fully Connected Layers\n",
    "    #    Play around with different number of outputs\n",
    "    # Function Definition from Above:\n",
    "    #   fully_conn(x_tensor, num_outputs)\n",
    "    x_fc1 = fully_conn(x_flat, 480)\n",
    "    x_fc2 = fully_conn(x_fc1 , 120)\n",
    "    x_fc3 = fully_conn(x_fc2 , 32)\n",
    "\n",
    "    \n",
    "    \n",
    "    # TODO: Apply an Output Layer\n",
    "    #    Set this to the number of classes\n",
    "    # Function Definition from Above:\n",
    "    #   output(x_tensor, num_outputs)\n",
    "    x_out = output(x_fc3, conv_num_outputs)\n",
    "    \n",
    "    \n",
    "    # TODO: return output\n",
    "    return x_out\n",
    "\n",
    "\n",
    "\"\"\"\n",
    "DON'T MODIFY ANYTHING IN THIS CELL THAT IS BELOW THIS LINE\n",
    "\"\"\"\n",
    "\n",
    "##############################\n",
    "## Build the Neural Network ##\n",
    "##############################\n",
    "\n",
    "# Remove previous weights, bias, inputs, etc..\n",
    "tf.reset_default_graph()\n",
    "\n",
    "# Inputs\n",
    "x = neural_net_image_input((32, 32, 3))\n",
    "y = neural_net_label_input(10)\n",
    "keep_prob = neural_net_keep_prob_input()\n",
    "\n",
    "# Model\n",
    "logits = conv_net(x, keep_prob)\n",
    "\n",
    "# Name logits Tensor, so that is can be loaded from disk after training\n",
    "logits = tf.identity(logits, name='logits')\n",
    "\n",
    "# Loss and Optimizer\n",
    "cost = tf.reduce_mean(tf.nn.softmax_cross_entropy_with_logits(logits=logits, labels=y))\n",
    "optimizer = tf.train.AdamOptimizer().minimize(cost)\n",
    "\n",
    "# Accuracy\n",
    "correct_pred = tf.equal(tf.argmax(logits, 1), tf.argmax(y, 1))\n",
    "accuracy = tf.reduce_mean(tf.cast(correct_pred, tf.float32), name='accuracy')\n",
    "\n",
    "tests.test_conv_net(conv_net)"
   ]
  },
  {
   "cell_type": "markdown",
   "metadata": {
    "deletable": true,
    "editable": true
   },
   "source": [
    "## Train the Neural Network\n",
    "### Single Optimization\n",
    "Implement the function `train_neural_network` to do a single optimization.  The optimization should use `optimizer` to optimize in `session` with a `feed_dict` of the following:\n",
    "* `x` for image input\n",
    "* `y` for labels\n",
    "* `keep_prob` for keep probability for dropout\n",
    "\n",
    "This function will be called for each batch, so `tf.global_variables_initializer()` has already been called.\n",
    "\n",
    "Note: Nothing needs to be returned. This function is only optimizing the neural network."
   ]
  },
  {
   "cell_type": "code",
   "execution_count": 104,
   "metadata": {
    "collapsed": false,
    "deletable": true,
    "editable": true
   },
   "outputs": [
    {
     "name": "stdout",
     "output_type": "stream",
     "text": [
      "Tests Passed\n"
     ]
    }
   ],
   "source": [
    "def train_neural_network(session, optimizer, keep_probability, feature_batch, label_batch):\n",
    "    \"\"\"\n",
    "    Optimize the session on a batch of images and labels\n",
    "    : session: Current TensorFlow session\n",
    "    : optimizer: TensorFlow optimizer function\n",
    "    : keep_probability: keep probability\n",
    "    : feature_batch: Batch of Numpy image data\n",
    "    : label_batch: Batch of Numpy label data\n",
    "    \"\"\"\n",
    "    # TODO: Implement Function\n",
    "    n_classes = 10\n",
    "    learning_rate = 0.5\n",
    "    session.run(optimizer, feed_dict={\n",
    "                x: feature_batch,\n",
    "                y: label_batch,\n",
    "                keep_prob: keep_probability})\n",
    "\n",
    "\"\"\"    \n",
    "DON'T MODIFY ANYTHING IN THIS CELL THAT IS BELOW THIS LINE\n",
    "\"\"\"\n",
    "tests.test_train_nn(train_neural_network)"
   ]
  },
  {
   "cell_type": "markdown",
   "metadata": {
    "deletable": true,
    "editable": true
   },
   "source": [
    "### Show Stats\n",
    "Implement the function `print_stats` to print loss and validation accuracy.  Use the global variables `valid_features` and `valid_labels` to calculate validation accuracy.  Use a keep probability of `1.0` to calculate the loss and validation accuracy."
   ]
  },
  {
   "cell_type": "code",
   "execution_count": 105,
   "metadata": {
    "collapsed": false,
    "deletable": true,
    "editable": true
   },
   "outputs": [],
   "source": [
    "def print_stats(session, feature_batch, label_batch, cost, accuracy):\n",
    "    \"\"\"\n",
    "    Print information about loss and validation accuracy\n",
    "    : session: Current TensorFlow session\n",
    "    : feature_batch: Batch of Numpy image data\n",
    "    : label_batch: Batch of Numpy label data\n",
    "    : cost: TensorFlow cost function\n",
    "    : accuracy: TensorFlow accuracy function\n",
    "    \"\"\"\n",
    "    # TODO: Implement Function\n",
    "\n",
    "    loss = session.run(cost, feed_dict={\n",
    "                x: feature_batch,\n",
    "                y: label_batch,\n",
    "                keep_prob: 1.})\n",
    "    valid_acc = session.run(accuracy, feed_dict={\n",
    "                x: valid_features,\n",
    "                y: valid_labels,\n",
    "                keep_prob: 1.})\n",
    "\n",
    "    print('Loss: {:>10.4f} Validation Accuracy: {:.3f}'.format(\n",
    "                loss,\n",
    "                valid_acc))\n",
    "    pass"
   ]
  },
  {
   "cell_type": "markdown",
   "metadata": {
    "deletable": true,
    "editable": true
   },
   "source": [
    "### Hyperparameters\n",
    "Tune the following parameters:\n",
    "* Set `epochs` to the number of iterations until the network stops learning or start overfitting\n",
    "* Set `batch_size` to the highest number that your machine has memory for.  Most people set them to common sizes of memory:\n",
    " * 64\n",
    " * 128\n",
    " * 256\n",
    " * ...\n",
    "* Set `keep_probability` to the probability of keeping a node using dropout"
   ]
  },
  {
   "cell_type": "code",
   "execution_count": 106,
   "metadata": {
    "collapsed": true,
    "deletable": true,
    "editable": true
   },
   "outputs": [],
   "source": [
    "# TODO: Tune Parameters\n",
    "epochs = 70\n",
    "batch_size = 128\n",
    "keep_probability = 0.5"
   ]
  },
  {
   "cell_type": "markdown",
   "metadata": {
    "deletable": true,
    "editable": true
   },
   "source": [
    "### Train on a Single CIFAR-10 Batch\n",
    "Instead of training the neural network on all the CIFAR-10 batches of data, let's use a single batch. This should save time while you iterate on the model to get a better accuracy.  Once the final validation accuracy is 50% or greater, run the model on all the data in the next section."
   ]
  },
  {
   "cell_type": "code",
   "execution_count": 96,
   "metadata": {
    "collapsed": false,
    "deletable": true,
    "editable": true
   },
   "outputs": [
    {
     "name": "stdout",
     "output_type": "stream",
     "text": [
      "Checking the Training on a Single Batch...\n",
      "Epoch  1, CIFAR-10 Batch 1:  Loss:     2.2899 Validation Accuracy: 0.168\n",
      "Epoch  2, CIFAR-10 Batch 1:  Loss:     2.2740 Validation Accuracy: 0.184\n",
      "Epoch  3, CIFAR-10 Batch 1:  Loss:     2.2807 Validation Accuracy: 0.218\n",
      "Epoch  4, CIFAR-10 Batch 1:  Loss:     2.1863 Validation Accuracy: 0.227\n",
      "Epoch  5, CIFAR-10 Batch 1:  Loss:     2.3386 Validation Accuracy: 0.219\n",
      "Epoch  6, CIFAR-10 Batch 1:  Loss:     2.2533 Validation Accuracy: 0.240\n",
      "Epoch  7, CIFAR-10 Batch 1:  Loss:     2.1939 Validation Accuracy: 0.245\n",
      "Epoch  8, CIFAR-10 Batch 1:  Loss:     2.1792 Validation Accuracy: 0.258\n",
      "Epoch  9, CIFAR-10 Batch 1:  Loss:     2.2146 Validation Accuracy: 0.280\n",
      "Epoch 10, CIFAR-10 Batch 1:  Loss:     2.2169 Validation Accuracy: 0.273\n",
      "Epoch 11, CIFAR-10 Batch 1:  Loss:     2.2655 Validation Accuracy: 0.289\n",
      "Epoch 12, CIFAR-10 Batch 1:  Loss:     2.1788 Validation Accuracy: 0.288\n",
      "Epoch 13, CIFAR-10 Batch 1:  Loss:     2.0845 Validation Accuracy: 0.300\n",
      "Epoch 14, CIFAR-10 Batch 1:  Loss:     1.9619 Validation Accuracy: 0.297\n",
      "Epoch 15, CIFAR-10 Batch 1:  Loss:     1.9717 Validation Accuracy: 0.320\n",
      "Epoch 16, CIFAR-10 Batch 1:  Loss:     1.8964 Validation Accuracy: 0.325\n",
      "Epoch 17, CIFAR-10 Batch 1:  Loss:     1.9324 Validation Accuracy: 0.345\n",
      "Epoch 18, CIFAR-10 Batch 1:  Loss:     1.9528 Validation Accuracy: 0.328\n",
      "Epoch 19, CIFAR-10 Batch 1:  Loss:     2.0392 Validation Accuracy: 0.356\n",
      "Epoch 20, CIFAR-10 Batch 1:  Loss:     1.8557 Validation Accuracy: 0.354\n",
      "Epoch 21, CIFAR-10 Batch 1:  Loss:     1.8806 Validation Accuracy: 0.372\n",
      "Epoch 22, CIFAR-10 Batch 1:  Loss:     1.7529 Validation Accuracy: 0.357\n",
      "Epoch 23, CIFAR-10 Batch 1:  Loss:     1.6623 Validation Accuracy: 0.363\n",
      "Epoch 24, CIFAR-10 Batch 1:  Loss:     1.9695 Validation Accuracy: 0.373\n",
      "Epoch 25, CIFAR-10 Batch 1:  Loss:     1.9067 Validation Accuracy: 0.375\n",
      "Epoch 26, CIFAR-10 Batch 1:  Loss:     1.6303 Validation Accuracy: 0.383\n",
      "Epoch 27, CIFAR-10 Batch 1:  Loss:     1.6310 Validation Accuracy: 0.381\n",
      "Epoch 28, CIFAR-10 Batch 1:  Loss:     1.6032 Validation Accuracy: 0.390\n",
      "Epoch 29, CIFAR-10 Batch 1:  Loss:     1.7331 Validation Accuracy: 0.393\n",
      "Epoch 30, CIFAR-10 Batch 1:  Loss:     1.5490 Validation Accuracy: 0.388\n",
      "Epoch 31, CIFAR-10 Batch 1:  Loss:     1.5581 Validation Accuracy: 0.397\n",
      "Epoch 32, CIFAR-10 Batch 1:  Loss:     1.5694 Validation Accuracy: 0.402\n",
      "Epoch 33, CIFAR-10 Batch 1:  Loss:     1.3293 Validation Accuracy: 0.404\n",
      "Epoch 34, CIFAR-10 Batch 1:  Loss:     1.5388 Validation Accuracy: 0.408\n",
      "Epoch 35, CIFAR-10 Batch 1:  Loss:     1.4873 Validation Accuracy: 0.391\n",
      "Epoch 36, CIFAR-10 Batch 1:  Loss:     1.5506 Validation Accuracy: 0.406\n",
      "Epoch 37, CIFAR-10 Batch 1:  Loss:     1.2104 Validation Accuracy: 0.409\n",
      "Epoch 38, CIFAR-10 Batch 1:  Loss:     1.2910 Validation Accuracy: 0.408\n",
      "Epoch 39, CIFAR-10 Batch 1:  Loss:     1.3512 Validation Accuracy: 0.389\n",
      "Epoch 40, CIFAR-10 Batch 1:  Loss:     1.3387 Validation Accuracy: 0.404\n",
      "Epoch 41, CIFAR-10 Batch 1:  Loss:     1.3262 Validation Accuracy: 0.419\n",
      "Epoch 42, CIFAR-10 Batch 1:  Loss:     1.3090 Validation Accuracy: 0.416\n",
      "Epoch 43, CIFAR-10 Batch 1:  Loss:     1.1528 Validation Accuracy: 0.413\n",
      "Epoch 44, CIFAR-10 Batch 1:  Loss:     1.1167 Validation Accuracy: 0.419\n",
      "Epoch 45, CIFAR-10 Batch 1:  Loss:     1.0647 Validation Accuracy: 0.418\n",
      "Epoch 46, CIFAR-10 Batch 1:  Loss:     1.0956 Validation Accuracy: 0.406\n",
      "Epoch 47, CIFAR-10 Batch 1:  Loss:     0.9619 Validation Accuracy: 0.414\n",
      "Epoch 48, CIFAR-10 Batch 1:  Loss:     1.0154 Validation Accuracy: 0.422\n",
      "Epoch 49, CIFAR-10 Batch 1:  Loss:     1.0856 Validation Accuracy: 0.409\n",
      "Epoch 50, CIFAR-10 Batch 1:  Loss:     0.9861 Validation Accuracy: 0.430\n",
      "Epoch 51, CIFAR-10 Batch 1:  Loss:     1.0663 Validation Accuracy: 0.430\n",
      "Epoch 52, CIFAR-10 Batch 1:  Loss:     1.1142 Validation Accuracy: 0.405\n",
      "Epoch 53, CIFAR-10 Batch 1:  Loss:     1.0672 Validation Accuracy: 0.420\n",
      "Epoch 54, CIFAR-10 Batch 1:  Loss:     0.8871 Validation Accuracy: 0.423\n",
      "Epoch 55, CIFAR-10 Batch 1:  Loss:     1.0336 Validation Accuracy: 0.423\n",
      "Epoch 56, CIFAR-10 Batch 1:  Loss:     1.1259 Validation Accuracy: 0.422\n",
      "Epoch 57, CIFAR-10 Batch 1:  Loss:     0.8271 Validation Accuracy: 0.424\n",
      "Epoch 58, CIFAR-10 Batch 1:  Loss:     0.9196 Validation Accuracy: 0.443\n",
      "Epoch 59, CIFAR-10 Batch 1:  Loss:     0.9901 Validation Accuracy: 0.437\n",
      "Epoch 60, CIFAR-10 Batch 1:  Loss:     0.7828 Validation Accuracy: 0.431\n",
      "Epoch 61, CIFAR-10 Batch 1:  Loss:     0.7726 Validation Accuracy: 0.432\n",
      "Epoch 62, CIFAR-10 Batch 1:  Loss:     0.8890 Validation Accuracy: 0.444\n",
      "Epoch 63, CIFAR-10 Batch 1:  Loss:     0.9777 Validation Accuracy: 0.443\n",
      "Epoch 64, CIFAR-10 Batch 1:  Loss:     0.9067 Validation Accuracy: 0.433\n",
      "Epoch 65, CIFAR-10 Batch 1:  Loss:     0.8101 Validation Accuracy: 0.434\n",
      "Epoch 66, CIFAR-10 Batch 1:  Loss:     0.7215 Validation Accuracy: 0.415\n",
      "Epoch 67, CIFAR-10 Batch 1:  Loss:     0.7027 Validation Accuracy: 0.427\n",
      "Epoch 68, CIFAR-10 Batch 1:  Loss:     0.6700 Validation Accuracy: 0.429\n",
      "Epoch 69, CIFAR-10 Batch 1:  Loss:     0.7997 Validation Accuracy: 0.446\n",
      "Epoch 70, CIFAR-10 Batch 1:  Loss:     0.7460 Validation Accuracy: 0.439\n"
     ]
    }
   ],
   "source": [
    "\"\"\"\n",
    "DON'T MODIFY ANYTHING IN THIS CELL\n",
    "\"\"\"\n",
    "print('Checking the Training on a Single Batch...')\n",
    "with tf.Session() as sess:\n",
    "    # Initializing the variables\n",
    "    sess.run(tf.global_variables_initializer())\n",
    "    \n",
    "    # Training cycle\n",
    "    for epoch in range(epochs):\n",
    "        batch_i = 1\n",
    "        for batch_features, batch_labels in helper.load_preprocess_training_batch(batch_i, batch_size):\n",
    "            train_neural_network(sess, optimizer, keep_probability, batch_features, batch_labels)\n",
    "        print('Epoch {:>2}, CIFAR-10 Batch {}:  '.format(epoch + 1, batch_i), end='')\n",
    "        print_stats(sess, batch_features, batch_labels, cost, accuracy)"
   ]
  },
  {
   "cell_type": "markdown",
   "metadata": {
    "deletable": true,
    "editable": true
   },
   "source": [
    "### Fully Train the Model\n",
    "Now that you got a good accuracy with a single CIFAR-10 batch, try it with all five batches."
   ]
  },
  {
   "cell_type": "code",
   "execution_count": 107,
   "metadata": {
    "collapsed": false,
    "deletable": true,
    "editable": true
   },
   "outputs": [
    {
     "name": "stdout",
     "output_type": "stream",
     "text": [
      "Training...\n",
      "Epoch  1, CIFAR-10 Batch 1:  Loss:     2.3033 Validation Accuracy: 0.100\n",
      "Epoch  1, CIFAR-10 Batch 2:  Loss:     2.2994 Validation Accuracy: 0.136\n",
      "Epoch  1, CIFAR-10 Batch 3:  Loss:     2.0495 Validation Accuracy: 0.183\n",
      "Epoch  1, CIFAR-10 Batch 4:  Loss:     1.9577 Validation Accuracy: 0.213\n",
      "Epoch  1, CIFAR-10 Batch 5:  Loss:     1.9803 Validation Accuracy: 0.235\n",
      "Epoch  2, CIFAR-10 Batch 1:  Loss:     2.1497 Validation Accuracy: 0.256\n",
      "Epoch  2, CIFAR-10 Batch 2:  Loss:     2.0950 Validation Accuracy: 0.275\n",
      "Epoch  2, CIFAR-10 Batch 3:  Loss:     1.6877 Validation Accuracy: 0.271\n",
      "Epoch  2, CIFAR-10 Batch 4:  Loss:     1.8069 Validation Accuracy: 0.278\n",
      "Epoch  2, CIFAR-10 Batch 5:  Loss:     1.8930 Validation Accuracy: 0.286\n",
      "Epoch  3, CIFAR-10 Batch 1:  Loss:     1.9419 Validation Accuracy: 0.298\n",
      "Epoch  3, CIFAR-10 Batch 2:  Loss:     2.1376 Validation Accuracy: 0.314\n",
      "Epoch  3, CIFAR-10 Batch 3:  Loss:     1.5701 Validation Accuracy: 0.316\n",
      "Epoch  3, CIFAR-10 Batch 4:  Loss:     1.7012 Validation Accuracy: 0.323\n",
      "Epoch  3, CIFAR-10 Batch 5:  Loss:     1.7225 Validation Accuracy: 0.328\n",
      "Epoch  4, CIFAR-10 Batch 1:  Loss:     1.8939 Validation Accuracy: 0.337\n",
      "Epoch  4, CIFAR-10 Batch 2:  Loss:     1.8485 Validation Accuracy: 0.341\n",
      "Epoch  4, CIFAR-10 Batch 3:  Loss:     1.4603 Validation Accuracy: 0.349\n",
      "Epoch  4, CIFAR-10 Batch 4:  Loss:     1.5992 Validation Accuracy: 0.356\n",
      "Epoch  4, CIFAR-10 Batch 5:  Loss:     1.8032 Validation Accuracy: 0.342\n",
      "Epoch  5, CIFAR-10 Batch 1:  Loss:     1.9638 Validation Accuracy: 0.367\n",
      "Epoch  5, CIFAR-10 Batch 2:  Loss:     1.8490 Validation Accuracy: 0.373\n",
      "Epoch  5, CIFAR-10 Batch 3:  Loss:     1.4822 Validation Accuracy: 0.375\n",
      "Epoch  5, CIFAR-10 Batch 4:  Loss:     1.5738 Validation Accuracy: 0.406\n",
      "Epoch  5, CIFAR-10 Batch 5:  Loss:     1.7321 Validation Accuracy: 0.389\n",
      "Epoch  6, CIFAR-10 Batch 1:  Loss:     1.6344 Validation Accuracy: 0.391\n",
      "Epoch  6, CIFAR-10 Batch 2:  Loss:     1.7213 Validation Accuracy: 0.411\n",
      "Epoch  6, CIFAR-10 Batch 3:  Loss:     1.2910 Validation Accuracy: 0.410\n",
      "Epoch  6, CIFAR-10 Batch 4:  Loss:     1.6509 Validation Accuracy: 0.426\n",
      "Epoch  6, CIFAR-10 Batch 5:  Loss:     1.7771 Validation Accuracy: 0.430\n",
      "Epoch  7, CIFAR-10 Batch 1:  Loss:     1.5819 Validation Accuracy: 0.429\n",
      "Epoch  7, CIFAR-10 Batch 2:  Loss:     1.5795 Validation Accuracy: 0.438\n",
      "Epoch  7, CIFAR-10 Batch 3:  Loss:     1.3334 Validation Accuracy: 0.433\n",
      "Epoch  7, CIFAR-10 Batch 4:  Loss:     1.5795 Validation Accuracy: 0.440\n",
      "Epoch  7, CIFAR-10 Batch 5:  Loss:     1.5023 Validation Accuracy: 0.433\n",
      "Epoch  8, CIFAR-10 Batch 1:  Loss:     1.5545 Validation Accuracy: 0.444\n",
      "Epoch  8, CIFAR-10 Batch 2:  Loss:     1.4610 Validation Accuracy: 0.464\n",
      "Epoch  8, CIFAR-10 Batch 3:  Loss:     1.2151 Validation Accuracy: 0.452\n",
      "Epoch  8, CIFAR-10 Batch 4:  Loss:     1.3997 Validation Accuracy: 0.473\n",
      "Epoch  8, CIFAR-10 Batch 5:  Loss:     1.6402 Validation Accuracy: 0.456\n",
      "Epoch  9, CIFAR-10 Batch 1:  Loss:     1.6504 Validation Accuracy: 0.459\n",
      "Epoch  9, CIFAR-10 Batch 2:  Loss:     1.4251 Validation Accuracy: 0.470\n",
      "Epoch  9, CIFAR-10 Batch 3:  Loss:     1.2160 Validation Accuracy: 0.470\n",
      "Epoch  9, CIFAR-10 Batch 4:  Loss:     1.4833 Validation Accuracy: 0.475\n",
      "Epoch  9, CIFAR-10 Batch 5:  Loss:     1.4659 Validation Accuracy: 0.473\n",
      "Epoch 10, CIFAR-10 Batch 1:  Loss:     1.5273 Validation Accuracy: 0.469\n",
      "Epoch 10, CIFAR-10 Batch 2:  Loss:     1.3502 Validation Accuracy: 0.492\n",
      "Epoch 10, CIFAR-10 Batch 3:  Loss:     1.1667 Validation Accuracy: 0.489\n",
      "Epoch 10, CIFAR-10 Batch 4:  Loss:     1.2967 Validation Accuracy: 0.489\n",
      "Epoch 10, CIFAR-10 Batch 5:  Loss:     1.4837 Validation Accuracy: 0.492\n",
      "Epoch 11, CIFAR-10 Batch 1:  Loss:     1.3333 Validation Accuracy: 0.498\n",
      "Epoch 11, CIFAR-10 Batch 2:  Loss:     1.2263 Validation Accuracy: 0.507\n",
      "Epoch 11, CIFAR-10 Batch 3:  Loss:     1.1372 Validation Accuracy: 0.507\n",
      "Epoch 11, CIFAR-10 Batch 4:  Loss:     1.2864 Validation Accuracy: 0.499\n",
      "Epoch 11, CIFAR-10 Batch 5:  Loss:     1.5421 Validation Accuracy: 0.484\n",
      "Epoch 12, CIFAR-10 Batch 1:  Loss:     1.3402 Validation Accuracy: 0.504\n",
      "Epoch 12, CIFAR-10 Batch 2:  Loss:     1.3491 Validation Accuracy: 0.503\n",
      "Epoch 12, CIFAR-10 Batch 3:  Loss:     1.1234 Validation Accuracy: 0.522\n",
      "Epoch 12, CIFAR-10 Batch 4:  Loss:     1.3196 Validation Accuracy: 0.514\n",
      "Epoch 12, CIFAR-10 Batch 5:  Loss:     1.3587 Validation Accuracy: 0.512\n",
      "Epoch 13, CIFAR-10 Batch 1:  Loss:     1.2262 Validation Accuracy: 0.533\n",
      "Epoch 13, CIFAR-10 Batch 2:  Loss:     1.2115 Validation Accuracy: 0.515\n",
      "Epoch 13, CIFAR-10 Batch 3:  Loss:     1.0269 Validation Accuracy: 0.525\n",
      "Epoch 13, CIFAR-10 Batch 4:  Loss:     1.2872 Validation Accuracy: 0.532\n",
      "Epoch 13, CIFAR-10 Batch 5:  Loss:     1.2583 Validation Accuracy: 0.521\n",
      "Epoch 14, CIFAR-10 Batch 1:  Loss:     1.0690 Validation Accuracy: 0.528\n",
      "Epoch 14, CIFAR-10 Batch 2:  Loss:     1.2183 Validation Accuracy: 0.522\n",
      "Epoch 14, CIFAR-10 Batch 3:  Loss:     1.0755 Validation Accuracy: 0.531\n",
      "Epoch 14, CIFAR-10 Batch 4:  Loss:     1.2732 Validation Accuracy: 0.535\n",
      "Epoch 14, CIFAR-10 Batch 5:  Loss:     1.2582 Validation Accuracy: 0.533\n",
      "Epoch 15, CIFAR-10 Batch 1:  Loss:     1.0593 Validation Accuracy: 0.531\n",
      "Epoch 15, CIFAR-10 Batch 2:  Loss:     1.0810 Validation Accuracy: 0.543\n",
      "Epoch 15, CIFAR-10 Batch 3:  Loss:     1.1777 Validation Accuracy: 0.539\n",
      "Epoch 15, CIFAR-10 Batch 4:  Loss:     1.2353 Validation Accuracy: 0.542\n",
      "Epoch 15, CIFAR-10 Batch 5:  Loss:     1.2711 Validation Accuracy: 0.544\n",
      "Epoch 16, CIFAR-10 Batch 1:  Loss:     1.0609 Validation Accuracy: 0.533\n",
      "Epoch 16, CIFAR-10 Batch 2:  Loss:     1.2772 Validation Accuracy: 0.539\n",
      "Epoch 16, CIFAR-10 Batch 3:  Loss:     1.0396 Validation Accuracy: 0.526\n",
      "Epoch 16, CIFAR-10 Batch 4:  Loss:     1.1791 Validation Accuracy: 0.534\n",
      "Epoch 16, CIFAR-10 Batch 5:  Loss:     1.1144 Validation Accuracy: 0.545\n",
      "Epoch 17, CIFAR-10 Batch 1:  Loss:     0.9505 Validation Accuracy: 0.536\n",
      "Epoch 17, CIFAR-10 Batch 2:  Loss:     1.0982 Validation Accuracy: 0.543\n",
      "Epoch 17, CIFAR-10 Batch 3:  Loss:     0.9818 Validation Accuracy: 0.546\n",
      "Epoch 17, CIFAR-10 Batch 4:  Loss:     1.1317 Validation Accuracy: 0.561\n",
      "Epoch 17, CIFAR-10 Batch 5:  Loss:     1.1315 Validation Accuracy: 0.555\n",
      "Epoch 18, CIFAR-10 Batch 1:  Loss:     0.8168 Validation Accuracy: 0.558\n",
      "Epoch 18, CIFAR-10 Batch 2:  Loss:     1.0815 Validation Accuracy: 0.552\n",
      "Epoch 18, CIFAR-10 Batch 3:  Loss:     1.0443 Validation Accuracy: 0.540\n",
      "Epoch 18, CIFAR-10 Batch 4:  Loss:     0.9915 Validation Accuracy: 0.558\n",
      "Epoch 18, CIFAR-10 Batch 5:  Loss:     1.0458 Validation Accuracy: 0.547\n",
      "Epoch 19, CIFAR-10 Batch 1:  Loss:     0.8642 Validation Accuracy: 0.552\n",
      "Epoch 19, CIFAR-10 Batch 2:  Loss:     1.0049 Validation Accuracy: 0.555\n",
      "Epoch 19, CIFAR-10 Batch 3:  Loss:     0.9795 Validation Accuracy: 0.541\n",
      "Epoch 19, CIFAR-10 Batch 4:  Loss:     1.0787 Validation Accuracy: 0.548\n",
      "Epoch 19, CIFAR-10 Batch 5:  Loss:     1.0829 Validation Accuracy: 0.556\n",
      "Epoch 20, CIFAR-10 Batch 1:  Loss:     1.0007 Validation Accuracy: 0.563\n",
      "Epoch 20, CIFAR-10 Batch 2:  Loss:     0.9321 Validation Accuracy: 0.562\n",
      "Epoch 20, CIFAR-10 Batch 3:  Loss:     0.8980 Validation Accuracy: 0.557\n",
      "Epoch 20, CIFAR-10 Batch 4:  Loss:     1.0145 Validation Accuracy: 0.561\n",
      "Epoch 20, CIFAR-10 Batch 5:  Loss:     1.0538 Validation Accuracy: 0.562\n",
      "Epoch 21, CIFAR-10 Batch 1:  Loss:     0.9281 Validation Accuracy: 0.552\n",
      "Epoch 21, CIFAR-10 Batch 2:  Loss:     0.9736 Validation Accuracy: 0.566\n",
      "Epoch 21, CIFAR-10 Batch 3:  Loss:     0.9218 Validation Accuracy: 0.547\n",
      "Epoch 21, CIFAR-10 Batch 4:  Loss:     0.9261 Validation Accuracy: 0.562\n",
      "Epoch 21, CIFAR-10 Batch 5:  Loss:     0.9077 Validation Accuracy: 0.571\n",
      "Epoch 22, CIFAR-10 Batch 1:  Loss:     0.9015 Validation Accuracy: 0.566\n",
      "Epoch 22, CIFAR-10 Batch 2:  Loss:     0.9419 Validation Accuracy: 0.569\n",
      "Epoch 22, CIFAR-10 Batch 3:  Loss:     0.8285 Validation Accuracy: 0.558\n",
      "Epoch 22, CIFAR-10 Batch 4:  Loss:     1.2224 Validation Accuracy: 0.560\n",
      "Epoch 22, CIFAR-10 Batch 5:  Loss:     0.9027 Validation Accuracy: 0.565\n",
      "Epoch 23, CIFAR-10 Batch 1:  Loss:     0.8654 Validation Accuracy: 0.574\n",
      "Epoch 23, CIFAR-10 Batch 2:  Loss:     0.8889 Validation Accuracy: 0.558\n",
      "Epoch 23, CIFAR-10 Batch 3:  Loss:     0.8914 Validation Accuracy: 0.551\n",
      "Epoch 23, CIFAR-10 Batch 4:  Loss:     1.0674 Validation Accuracy: 0.558\n",
      "Epoch 23, CIFAR-10 Batch 5:  Loss:     0.8465 Validation Accuracy: 0.571\n",
      "Epoch 24, CIFAR-10 Batch 1:  Loss:     0.8415 Validation Accuracy: 0.570\n",
      "Epoch 24, CIFAR-10 Batch 2:  Loss:     0.7474 Validation Accuracy: 0.553\n",
      "Epoch 24, CIFAR-10 Batch 3:  Loss:     0.7373 Validation Accuracy: 0.561\n",
      "Epoch 24, CIFAR-10 Batch 4:  Loss:     0.8795 Validation Accuracy: 0.574\n",
      "Epoch 24, CIFAR-10 Batch 5:  Loss:     0.7956 Validation Accuracy: 0.570\n",
      "Epoch 25, CIFAR-10 Batch 1:  Loss:     0.9737 Validation Accuracy: 0.575\n",
      "Epoch 25, CIFAR-10 Batch 2:  Loss:     0.7397 Validation Accuracy: 0.579\n",
      "Epoch 25, CIFAR-10 Batch 3:  Loss:     0.9441 Validation Accuracy: 0.565\n",
      "Epoch 25, CIFAR-10 Batch 4:  Loss:     0.9159 Validation Accuracy: 0.574\n",
      "Epoch 25, CIFAR-10 Batch 5:  Loss:     0.8591 Validation Accuracy: 0.578\n",
      "Epoch 26, CIFAR-10 Batch 1:  Loss:     0.8043 Validation Accuracy: 0.566\n",
      "Epoch 26, CIFAR-10 Batch 2:  Loss:     0.7530 Validation Accuracy: 0.559\n",
      "Epoch 26, CIFAR-10 Batch 3:  Loss:     0.7950 Validation Accuracy: 0.561\n",
      "Epoch 26, CIFAR-10 Batch 4:  Loss:     0.8952 Validation Accuracy: 0.565\n",
      "Epoch 26, CIFAR-10 Batch 5:  Loss:     0.7730 Validation Accuracy: 0.571\n",
      "Epoch 27, CIFAR-10 Batch 1:  Loss:     0.8686 Validation Accuracy: 0.572\n",
      "Epoch 27, CIFAR-10 Batch 2:  Loss:     0.7807 Validation Accuracy: 0.583\n",
      "Epoch 27, CIFAR-10 Batch 3:  Loss:     0.8433 Validation Accuracy: 0.572\n",
      "Epoch 27, CIFAR-10 Batch 4:  Loss:     0.8020 Validation Accuracy: 0.577\n",
      "Epoch 27, CIFAR-10 Batch 5:  Loss:     0.7306 Validation Accuracy: 0.573\n",
      "Epoch 28, CIFAR-10 Batch 1:  Loss:     0.7983 Validation Accuracy: 0.568\n",
      "Epoch 28, CIFAR-10 Batch 2:  Loss:     0.7277 Validation Accuracy: 0.572\n",
      "Epoch 28, CIFAR-10 Batch 3:  Loss:     0.6122 Validation Accuracy: 0.571\n",
      "Epoch 28, CIFAR-10 Batch 4:  Loss:     0.8652 Validation Accuracy: 0.568\n",
      "Epoch 28, CIFAR-10 Batch 5:  Loss:     0.7345 Validation Accuracy: 0.580\n",
      "Epoch 29, CIFAR-10 Batch 1:  Loss:     0.7676 Validation Accuracy: 0.564\n",
      "Epoch 29, CIFAR-10 Batch 2:  Loss:     0.8808 Validation Accuracy: 0.569\n",
      "Epoch 29, CIFAR-10 Batch 3:  Loss:     0.7210 Validation Accuracy: 0.585\n",
      "Epoch 29, CIFAR-10 Batch 4:  Loss:     0.7100 Validation Accuracy: 0.593\n",
      "Epoch 29, CIFAR-10 Batch 5:  Loss:     0.8006 Validation Accuracy: 0.568\n",
      "Epoch 30, CIFAR-10 Batch 1:  Loss:     0.7860 Validation Accuracy: 0.572\n",
      "Epoch 30, CIFAR-10 Batch 2:  Loss:     0.7324 Validation Accuracy: 0.579\n",
      "Epoch 30, CIFAR-10 Batch 3:  Loss:     0.8019 Validation Accuracy: 0.581\n",
      "Epoch 30, CIFAR-10 Batch 4:  Loss:     0.8185 Validation Accuracy: 0.584\n",
      "Epoch 30, CIFAR-10 Batch 5:  Loss:     0.7862 Validation Accuracy: 0.589\n",
      "Epoch 31, CIFAR-10 Batch 1:  Loss:     0.8651 Validation Accuracy: 0.579\n",
      "Epoch 31, CIFAR-10 Batch 2:  Loss:     0.7979 Validation Accuracy: 0.590\n",
      "Epoch 31, CIFAR-10 Batch 3:  Loss:     0.7372 Validation Accuracy: 0.583\n",
      "Epoch 31, CIFAR-10 Batch 4:  Loss:     0.7807 Validation Accuracy: 0.589\n",
      "Epoch 31, CIFAR-10 Batch 5:  Loss:     0.6175 Validation Accuracy: 0.582\n",
      "Epoch 32, CIFAR-10 Batch 1:  Loss:     0.7325 Validation Accuracy: 0.586\n",
      "Epoch 32, CIFAR-10 Batch 2:  Loss:     0.7653 Validation Accuracy: 0.567\n",
      "Epoch 32, CIFAR-10 Batch 3:  Loss:     0.7486 Validation Accuracy: 0.570\n",
      "Epoch 32, CIFAR-10 Batch 4:  Loss:     0.8210 Validation Accuracy: 0.575\n",
      "Epoch 32, CIFAR-10 Batch 5:  Loss:     0.8128 Validation Accuracy: 0.585\n",
      "Epoch 33, CIFAR-10 Batch 1:  Loss:     0.7628 Validation Accuracy: 0.576\n",
      "Epoch 33, CIFAR-10 Batch 2:  Loss:     0.7821 Validation Accuracy: 0.576\n",
      "Epoch 33, CIFAR-10 Batch 3:  Loss:     0.5622 Validation Accuracy: 0.590\n",
      "Epoch 33, CIFAR-10 Batch 4:  Loss:     0.7394 Validation Accuracy: 0.574\n",
      "Epoch 33, CIFAR-10 Batch 5:  Loss:     0.7223 Validation Accuracy: 0.588\n",
      "Epoch 34, CIFAR-10 Batch 1:  Loss:     0.7989 Validation Accuracy: 0.585\n",
      "Epoch 34, CIFAR-10 Batch 2:  Loss:     0.7123 Validation Accuracy: 0.580\n",
      "Epoch 34, CIFAR-10 Batch 3:  Loss:     0.5696 Validation Accuracy: 0.577\n",
      "Epoch 34, CIFAR-10 Batch 4:  Loss:     0.7682 Validation Accuracy: 0.593\n",
      "Epoch 34, CIFAR-10 Batch 5:  Loss:     0.6979 Validation Accuracy: 0.585\n",
      "Epoch 35, CIFAR-10 Batch 1:  Loss:     0.7257 Validation Accuracy: 0.576\n",
      "Epoch 35, CIFAR-10 Batch 2:  Loss:     0.6784 Validation Accuracy: 0.576\n",
      "Epoch 35, CIFAR-10 Batch 3:  Loss:     0.5713 Validation Accuracy: 0.588\n",
      "Epoch 35, CIFAR-10 Batch 4:  Loss:     0.6040 Validation Accuracy: 0.587\n",
      "Epoch 35, CIFAR-10 Batch 5:  Loss:     0.7408 Validation Accuracy: 0.590\n",
      "Epoch 36, CIFAR-10 Batch 1:  Loss:     0.6464 Validation Accuracy: 0.579\n",
      "Epoch 36, CIFAR-10 Batch 2:  Loss:     0.7424 Validation Accuracy: 0.583\n",
      "Epoch 36, CIFAR-10 Batch 3:  Loss:     0.7676 Validation Accuracy: 0.597\n",
      "Epoch 36, CIFAR-10 Batch 4:  Loss:     0.8572 Validation Accuracy: 0.594\n",
      "Epoch 36, CIFAR-10 Batch 5:  Loss:     0.6012 Validation Accuracy: 0.580\n",
      "Epoch 37, CIFAR-10 Batch 1:  Loss:     0.8110 Validation Accuracy: 0.592\n",
      "Epoch 37, CIFAR-10 Batch 2:  Loss:     0.7416 Validation Accuracy: 0.585\n",
      "Epoch 37, CIFAR-10 Batch 3:  Loss:     0.7827 Validation Accuracy: 0.582\n",
      "Epoch 37, CIFAR-10 Batch 4:  Loss:     0.7271 Validation Accuracy: 0.580\n",
      "Epoch 37, CIFAR-10 Batch 5:  Loss:     0.6742 Validation Accuracy: 0.584\n",
      "Epoch 38, CIFAR-10 Batch 1:  Loss:     0.7086 Validation Accuracy: 0.588\n",
      "Epoch 38, CIFAR-10 Batch 2:  Loss:     0.6325 Validation Accuracy: 0.584\n",
      "Epoch 38, CIFAR-10 Batch 3:  Loss:     0.7287 Validation Accuracy: 0.582\n",
      "Epoch 38, CIFAR-10 Batch 4:  Loss:     0.8114 Validation Accuracy: 0.591\n",
      "Epoch 38, CIFAR-10 Batch 5:  Loss:     0.6306 Validation Accuracy: 0.579\n",
      "Epoch 39, CIFAR-10 Batch 1:  Loss:     0.7409 Validation Accuracy: 0.577\n",
      "Epoch 39, CIFAR-10 Batch 2:  Loss:     0.8134 Validation Accuracy: 0.586\n",
      "Epoch 39, CIFAR-10 Batch 3:  Loss:     0.6174 Validation Accuracy: 0.581\n",
      "Epoch 39, CIFAR-10 Batch 4:  Loss:     0.6489 Validation Accuracy: 0.581\n",
      "Epoch 39, CIFAR-10 Batch 5:  Loss:     0.4760 Validation Accuracy: 0.596\n",
      "Epoch 40, CIFAR-10 Batch 1:  Loss:     0.8613 Validation Accuracy: 0.583\n",
      "Epoch 40, CIFAR-10 Batch 2:  Loss:     0.5589 Validation Accuracy: 0.573\n",
      "Epoch 40, CIFAR-10 Batch 3:  Loss:     0.7416 Validation Accuracy: 0.585\n",
      "Epoch 40, CIFAR-10 Batch 4:  Loss:     0.5331 Validation Accuracy: 0.598\n",
      "Epoch 40, CIFAR-10 Batch 5:  Loss:     0.6255 Validation Accuracy: 0.588\n",
      "Epoch 41, CIFAR-10 Batch 1:  Loss:     0.7701 Validation Accuracy: 0.578\n",
      "Epoch 41, CIFAR-10 Batch 2:  Loss:     0.6574 Validation Accuracy: 0.573\n",
      "Epoch 41, CIFAR-10 Batch 3:  Loss:     0.8302 Validation Accuracy: 0.585\n",
      "Epoch 41, CIFAR-10 Batch 4:  Loss:     0.6443 Validation Accuracy: 0.595\n",
      "Epoch 41, CIFAR-10 Batch 5:  Loss:     0.7052 Validation Accuracy: 0.584\n",
      "Epoch 42, CIFAR-10 Batch 1:  Loss:     0.8093 Validation Accuracy: 0.591\n",
      "Epoch 42, CIFAR-10 Batch 2:  Loss:     0.7051 Validation Accuracy: 0.578\n",
      "Epoch 42, CIFAR-10 Batch 3:  Loss:     0.6329 Validation Accuracy: 0.591\n",
      "Epoch 42, CIFAR-10 Batch 4:  Loss:     0.6645 Validation Accuracy: 0.581\n",
      "Epoch 42, CIFAR-10 Batch 5:  Loss:     0.6725 Validation Accuracy: 0.595\n",
      "Epoch 43, CIFAR-10 Batch 1:  Loss:     0.5963 Validation Accuracy: 0.586\n",
      "Epoch 43, CIFAR-10 Batch 2:  Loss:     0.7239 Validation Accuracy: 0.582\n",
      "Epoch 43, CIFAR-10 Batch 3:  Loss:     0.7069 Validation Accuracy: 0.585\n",
      "Epoch 43, CIFAR-10 Batch 4:  Loss:     0.5497 Validation Accuracy: 0.591\n",
      "Epoch 43, CIFAR-10 Batch 5:  Loss:     0.6359 Validation Accuracy: 0.588\n",
      "Epoch 44, CIFAR-10 Batch 1:  Loss:     0.6232 Validation Accuracy: 0.588\n",
      "Epoch 44, CIFAR-10 Batch 2:  Loss:     0.5749 Validation Accuracy: 0.583\n",
      "Epoch 44, CIFAR-10 Batch 3:  Loss:     0.5677 Validation Accuracy: 0.575\n",
      "Epoch 44, CIFAR-10 Batch 4:  Loss:     0.6053 Validation Accuracy: 0.582\n",
      "Epoch 44, CIFAR-10 Batch 5:  Loss:     0.5455 Validation Accuracy: 0.585\n",
      "Epoch 45, CIFAR-10 Batch 1:  Loss:     0.6719 Validation Accuracy: 0.585\n",
      "Epoch 45, CIFAR-10 Batch 2:  Loss:     0.5960 Validation Accuracy: 0.579\n",
      "Epoch 45, CIFAR-10 Batch 3:  Loss:     0.6205 Validation Accuracy: 0.582\n",
      "Epoch 45, CIFAR-10 Batch 4:  Loss:     0.4885 Validation Accuracy: 0.588\n",
      "Epoch 45, CIFAR-10 Batch 5:  Loss:     0.6238 Validation Accuracy: 0.590\n",
      "Epoch 46, CIFAR-10 Batch 1:  Loss:     0.6494 Validation Accuracy: 0.587\n",
      "Epoch 46, CIFAR-10 Batch 2:  Loss:     0.6631 Validation Accuracy: 0.575\n",
      "Epoch 46, CIFAR-10 Batch 3:  Loss:     0.6188 Validation Accuracy: 0.597\n",
      "Epoch 46, CIFAR-10 Batch 4:  Loss:     0.7573 Validation Accuracy: 0.590\n",
      "Epoch 46, CIFAR-10 Batch 5:  Loss:     0.5647 Validation Accuracy: 0.584\n",
      "Epoch 47, CIFAR-10 Batch 1:  Loss:     0.6417 Validation Accuracy: 0.584\n",
      "Epoch 47, CIFAR-10 Batch 2:  Loss:     0.5951 Validation Accuracy: 0.587\n",
      "Epoch 47, CIFAR-10 Batch 3:  Loss:     0.5656 Validation Accuracy: 0.597\n",
      "Epoch 47, CIFAR-10 Batch 4:  Loss:     0.6033 Validation Accuracy: 0.588\n",
      "Epoch 47, CIFAR-10 Batch 5:  Loss:     0.5469 Validation Accuracy: 0.589\n",
      "Epoch 48, CIFAR-10 Batch 1:  Loss:     0.5807 Validation Accuracy: 0.582\n",
      "Epoch 48, CIFAR-10 Batch 2:  Loss:     0.7011 Validation Accuracy: 0.595\n",
      "Epoch 48, CIFAR-10 Batch 3:  Loss:     0.5066 Validation Accuracy: 0.588\n",
      "Epoch 48, CIFAR-10 Batch 4:  Loss:     0.6064 Validation Accuracy: 0.590\n",
      "Epoch 48, CIFAR-10 Batch 5:  Loss:     0.5416 Validation Accuracy: 0.590\n",
      "Epoch 49, CIFAR-10 Batch 1:  Loss:     0.6786 Validation Accuracy: 0.580\n",
      "Epoch 49, CIFAR-10 Batch 2:  Loss:     0.5624 Validation Accuracy: 0.587\n",
      "Epoch 49, CIFAR-10 Batch 3:  Loss:     0.5164 Validation Accuracy: 0.575\n",
      "Epoch 49, CIFAR-10 Batch 4:  Loss:     0.5330 Validation Accuracy: 0.587\n",
      "Epoch 49, CIFAR-10 Batch 5:  Loss:     0.5260 Validation Accuracy: 0.588\n",
      "Epoch 50, CIFAR-10 Batch 1:  Loss:     0.6452 Validation Accuracy: 0.573\n",
      "Epoch 50, CIFAR-10 Batch 2:  Loss:     0.8191 Validation Accuracy: 0.576\n",
      "Epoch 50, CIFAR-10 Batch 3:  Loss:     0.5620 Validation Accuracy: 0.589\n",
      "Epoch 50, CIFAR-10 Batch 4:  Loss:     0.5997 Validation Accuracy: 0.582\n",
      "Epoch 50, CIFAR-10 Batch 5:  Loss:     0.5365 Validation Accuracy: 0.596\n",
      "Epoch 51, CIFAR-10 Batch 1:  Loss:     0.5775 Validation Accuracy: 0.587\n",
      "Epoch 51, CIFAR-10 Batch 2:  Loss:     0.5179 Validation Accuracy: 0.584\n",
      "Epoch 51, CIFAR-10 Batch 3:  Loss:     0.5297 Validation Accuracy: 0.586\n",
      "Epoch 51, CIFAR-10 Batch 4:  Loss:     0.5064 Validation Accuracy: 0.596\n",
      "Epoch 51, CIFAR-10 Batch 5:  Loss:     0.4344 Validation Accuracy: 0.586\n",
      "Epoch 52, CIFAR-10 Batch 1:  Loss:     0.8919 Validation Accuracy: 0.579\n",
      "Epoch 52, CIFAR-10 Batch 2:  Loss:     0.7417 Validation Accuracy: 0.574\n",
      "Epoch 52, CIFAR-10 Batch 3:  Loss:     0.6630 Validation Accuracy: 0.587\n",
      "Epoch 52, CIFAR-10 Batch 4:  Loss:     0.6085 Validation Accuracy: 0.587\n",
      "Epoch 52, CIFAR-10 Batch 5:  Loss:     0.5290 Validation Accuracy: 0.599\n",
      "Epoch 53, CIFAR-10 Batch 1:  Loss:     0.6378 Validation Accuracy: 0.590\n",
      "Epoch 53, CIFAR-10 Batch 2:  Loss:     0.5707 Validation Accuracy: 0.585\n",
      "Epoch 53, CIFAR-10 Batch 3:  Loss:     0.4469 Validation Accuracy: 0.590\n",
      "Epoch 53, CIFAR-10 Batch 4:  Loss:     0.6119 Validation Accuracy: 0.586\n",
      "Epoch 53, CIFAR-10 Batch 5:  Loss:     0.4738 Validation Accuracy: 0.589\n",
      "Epoch 54, CIFAR-10 Batch 1:  Loss:     0.6082 Validation Accuracy: 0.584\n",
      "Epoch 54, CIFAR-10 Batch 2:  Loss:     0.5900 Validation Accuracy: 0.588\n",
      "Epoch 54, CIFAR-10 Batch 3:  Loss:     0.5326 Validation Accuracy: 0.588\n",
      "Epoch 54, CIFAR-10 Batch 4:  Loss:     0.3941 Validation Accuracy: 0.581\n",
      "Epoch 54, CIFAR-10 Batch 5:  Loss:     0.4455 Validation Accuracy: 0.590\n",
      "Epoch 55, CIFAR-10 Batch 1:  Loss:     0.7423 Validation Accuracy: 0.592\n",
      "Epoch 55, CIFAR-10 Batch 2:  Loss:     0.5585 Validation Accuracy: 0.582\n",
      "Epoch 55, CIFAR-10 Batch 3:  Loss:     0.5704 Validation Accuracy: 0.591\n",
      "Epoch 55, CIFAR-10 Batch 4:  Loss:     0.5761 Validation Accuracy: 0.583\n",
      "Epoch 55, CIFAR-10 Batch 5:  Loss:     0.5335 Validation Accuracy: 0.590\n",
      "Epoch 56, CIFAR-10 Batch 1:  Loss:     0.6524 Validation Accuracy: 0.582\n",
      "Epoch 56, CIFAR-10 Batch 2:  Loss:     0.5504 Validation Accuracy: 0.581\n",
      "Epoch 56, CIFAR-10 Batch 3:  Loss:     0.5016 Validation Accuracy: 0.586\n",
      "Epoch 56, CIFAR-10 Batch 4:  Loss:     0.4122 Validation Accuracy: 0.594\n",
      "Epoch 56, CIFAR-10 Batch 5:  Loss:     0.4540 Validation Accuracy: 0.591\n",
      "Epoch 57, CIFAR-10 Batch 1:  Loss:     0.7659 Validation Accuracy: 0.591\n",
      "Epoch 57, CIFAR-10 Batch 2:  Loss:     0.6191 Validation Accuracy: 0.582\n",
      "Epoch 57, CIFAR-10 Batch 3:  Loss:     0.4655 Validation Accuracy: 0.595\n",
      "Epoch 57, CIFAR-10 Batch 4:  Loss:     0.3780 Validation Accuracy: 0.591\n",
      "Epoch 57, CIFAR-10 Batch 5:  Loss:     0.4478 Validation Accuracy: 0.592\n",
      "Epoch 58, CIFAR-10 Batch 1:  Loss:     0.5045 Validation Accuracy: 0.589\n",
      "Epoch 58, CIFAR-10 Batch 2:  Loss:     0.6095 Validation Accuracy: 0.591\n",
      "Epoch 58, CIFAR-10 Batch 3:  Loss:     0.5263 Validation Accuracy: 0.585\n",
      "Epoch 58, CIFAR-10 Batch 4:  Loss:     0.5372 Validation Accuracy: 0.585\n",
      "Epoch 58, CIFAR-10 Batch 5:  Loss:     0.5325 Validation Accuracy: 0.595\n",
      "Epoch 59, CIFAR-10 Batch 1:  Loss:     0.5572 Validation Accuracy: 0.593\n",
      "Epoch 59, CIFAR-10 Batch 2:  Loss:     0.7076 Validation Accuracy: 0.588\n",
      "Epoch 59, CIFAR-10 Batch 3:  Loss:     0.4961 Validation Accuracy: 0.594\n",
      "Epoch 59, CIFAR-10 Batch 4:  Loss:     0.4722 Validation Accuracy: 0.586\n",
      "Epoch 59, CIFAR-10 Batch 5:  Loss:     0.7133 Validation Accuracy: 0.601\n",
      "Epoch 60, CIFAR-10 Batch 1:  Loss:     0.4163 Validation Accuracy: 0.591\n",
      "Epoch 60, CIFAR-10 Batch 2:  Loss:     0.4978 Validation Accuracy: 0.586\n",
      "Epoch 60, CIFAR-10 Batch 3:  Loss:     0.4744 Validation Accuracy: 0.595\n",
      "Epoch 60, CIFAR-10 Batch 4:  Loss:     0.4860 Validation Accuracy: 0.582\n",
      "Epoch 60, CIFAR-10 Batch 5:  Loss:     0.4538 Validation Accuracy: 0.594\n",
      "Epoch 61, CIFAR-10 Batch 1:  Loss:     0.8556 Validation Accuracy: 0.594\n",
      "Epoch 61, CIFAR-10 Batch 2:  Loss:     0.3727 Validation Accuracy: 0.580\n",
      "Epoch 61, CIFAR-10 Batch 3:  Loss:     0.3789 Validation Accuracy: 0.593\n",
      "Epoch 61, CIFAR-10 Batch 4:  Loss:     0.5912 Validation Accuracy: 0.581\n",
      "Epoch 61, CIFAR-10 Batch 5:  Loss:     0.5801 Validation Accuracy: 0.581\n",
      "Epoch 62, CIFAR-10 Batch 1:  Loss:     0.7221 Validation Accuracy: 0.575\n",
      "Epoch 62, CIFAR-10 Batch 2:  Loss:     0.4969 Validation Accuracy: 0.594\n",
      "Epoch 62, CIFAR-10 Batch 3:  Loss:     0.5461 Validation Accuracy: 0.586\n",
      "Epoch 62, CIFAR-10 Batch 4:  Loss:     0.7079 Validation Accuracy: 0.587\n",
      "Epoch 62, CIFAR-10 Batch 5:  Loss:     0.5863 Validation Accuracy: 0.584\n",
      "Epoch 63, CIFAR-10 Batch 1:  Loss:     0.8478 Validation Accuracy: 0.570\n",
      "Epoch 63, CIFAR-10 Batch 2:  Loss:     0.4019 Validation Accuracy: 0.588\n",
      "Epoch 63, CIFAR-10 Batch 3:  Loss:     0.5061 Validation Accuracy: 0.588\n",
      "Epoch 63, CIFAR-10 Batch 4:  Loss:     0.6802 Validation Accuracy: 0.583\n",
      "Epoch 63, CIFAR-10 Batch 5:  Loss:     0.2983 Validation Accuracy: 0.583\n",
      "Epoch 64, CIFAR-10 Batch 1:  Loss:     0.4606 Validation Accuracy: 0.579\n",
      "Epoch 64, CIFAR-10 Batch 2:  Loss:     0.4336 Validation Accuracy: 0.594\n",
      "Epoch 64, CIFAR-10 Batch 3:  Loss:     0.5671 Validation Accuracy: 0.584\n",
      "Epoch 64, CIFAR-10 Batch 4:  Loss:     0.5224 Validation Accuracy: 0.589\n",
      "Epoch 64, CIFAR-10 Batch 5:  Loss:     0.5315 Validation Accuracy: 0.590\n",
      "Epoch 65, CIFAR-10 Batch 1:  Loss:     0.6450 Validation Accuracy: 0.590\n",
      "Epoch 65, CIFAR-10 Batch 2:  Loss:     0.4820 Validation Accuracy: 0.589\n",
      "Epoch 65, CIFAR-10 Batch 3:  Loss:     0.4253 Validation Accuracy: 0.593\n",
      "Epoch 65, CIFAR-10 Batch 4:  Loss:     0.3505 Validation Accuracy: 0.583\n",
      "Epoch 65, CIFAR-10 Batch 5:  Loss:     0.6045 Validation Accuracy: 0.588\n",
      "Epoch 66, CIFAR-10 Batch 1:  Loss:     0.6129 Validation Accuracy: 0.587\n",
      "Epoch 66, CIFAR-10 Batch 2:  Loss:     0.4505 Validation Accuracy: 0.597\n",
      "Epoch 66, CIFAR-10 Batch 3:  Loss:     0.4898 Validation Accuracy: 0.595\n",
      "Epoch 66, CIFAR-10 Batch 4:  Loss:     0.5660 Validation Accuracy: 0.595\n",
      "Epoch 66, CIFAR-10 Batch 5:  Loss:     0.4657 Validation Accuracy: 0.589\n",
      "Epoch 67, CIFAR-10 Batch 1:  Loss:     0.5209 Validation Accuracy: 0.591\n",
      "Epoch 67, CIFAR-10 Batch 2:  Loss:     0.5401 Validation Accuracy: 0.587\n",
      "Epoch 67, CIFAR-10 Batch 3:  Loss:     0.3912 Validation Accuracy: 0.596\n",
      "Epoch 67, CIFAR-10 Batch 4:  Loss:     0.5453 Validation Accuracy: 0.588\n",
      "Epoch 67, CIFAR-10 Batch 5:  Loss:     0.3435 Validation Accuracy: 0.594\n",
      "Epoch 68, CIFAR-10 Batch 1:  Loss:     0.4589 Validation Accuracy: 0.584\n",
      "Epoch 68, CIFAR-10 Batch 2:  Loss:     0.4877 Validation Accuracy: 0.594\n",
      "Epoch 68, CIFAR-10 Batch 3:  Loss:     0.4405 Validation Accuracy: 0.598\n",
      "Epoch 68, CIFAR-10 Batch 4:  Loss:     0.6180 Validation Accuracy: 0.576\n",
      "Epoch 68, CIFAR-10 Batch 5:  Loss:     0.5417 Validation Accuracy: 0.591\n",
      "Epoch 69, CIFAR-10 Batch 1:  Loss:     0.6494 Validation Accuracy: 0.586\n",
      "Epoch 69, CIFAR-10 Batch 2:  Loss:     0.5277 Validation Accuracy: 0.592\n",
      "Epoch 69, CIFAR-10 Batch 3:  Loss:     0.5068 Validation Accuracy: 0.587\n",
      "Epoch 69, CIFAR-10 Batch 4:  Loss:     0.5556 Validation Accuracy: 0.587\n",
      "Epoch 69, CIFAR-10 Batch 5:  Loss:     0.3988 Validation Accuracy: 0.594\n",
      "Epoch 70, CIFAR-10 Batch 1:  Loss:     0.5268 Validation Accuracy: 0.589\n",
      "Epoch 70, CIFAR-10 Batch 2:  Loss:     0.5263 Validation Accuracy: 0.582\n",
      "Epoch 70, CIFAR-10 Batch 3:  Loss:     0.4469 Validation Accuracy: 0.598\n",
      "Epoch 70, CIFAR-10 Batch 4:  Loss:     0.5803 Validation Accuracy: 0.587\n",
      "Epoch 70, CIFAR-10 Batch 5:  Loss:     0.4190 Validation Accuracy: 0.582\n"
     ]
    }
   ],
   "source": [
    "\"\"\"\n",
    "DON'T MODIFY ANYTHING IN THIS CELL\n",
    "\"\"\"\n",
    "save_model_path = './image_classification'\n",
    "\n",
    "print('Training...')\n",
    "with tf.Session() as sess:\n",
    "    # Initializing the variables\n",
    "    sess.run(tf.global_variables_initializer())\n",
    "    \n",
    "    # Training cycle\n",
    "    for epoch in range(epochs):\n",
    "        # Loop over all batches\n",
    "        n_batches = 5\n",
    "        for batch_i in range(1, n_batches + 1):\n",
    "            for batch_features, batch_labels in helper.load_preprocess_training_batch(batch_i, batch_size):\n",
    "                train_neural_network(sess, optimizer, keep_probability, batch_features, batch_labels)\n",
    "            print('Epoch {:>2}, CIFAR-10 Batch {}:  '.format(epoch + 1, batch_i), end='')\n",
    "            print_stats(sess, batch_features, batch_labels, cost, accuracy)\n",
    "            \n",
    "    # Save Model\n",
    "    saver = tf.train.Saver()\n",
    "    save_path = saver.save(sess, save_model_path)"
   ]
  },
  {
   "cell_type": "markdown",
   "metadata": {
    "deletable": true,
    "editable": true
   },
   "source": [
    "# Checkpoint\n",
    "The model has been saved to disk.\n",
    "## Test Model\n",
    "Test your model against the test dataset.  This will be your final accuracy. You should have an accuracy greater than 50%. If you don't, keep tweaking the model architecture and parameters."
   ]
  },
  {
   "cell_type": "code",
   "execution_count": 108,
   "metadata": {
    "collapsed": false,
    "deletable": true,
    "editable": true
   },
   "outputs": [
    {
     "name": "stdout",
     "output_type": "stream",
     "text": [
      "Testing Accuracy: 0.5882120253164557\n",
      "\n"
     ]
    },
    {
     "data": {
      "image/png": "[encoded data removed]",
      "text/plain": [
       "<matplotlib.figure.Figure at 0x17ed7ea358>"
      ]
     },
     "metadata": {
      "image/png": {
       "height": 319,
       "width": 355
      }
     },
     "output_type": "display_data"
    }
   ],
   "source": [
    "\"\"\"\n",
    "DON'T MODIFY ANYTHING IN THIS CELL\n",
    "\"\"\"\n",
    "%matplotlib inline\n",
    "%config InlineBackend.figure_format = 'retina'\n",
    "\n",
    "import tensorflow as tf\n",
    "import pickle\n",
    "import helper\n",
    "import random\n",
    "\n",
    "# Set batch size if not already set\n",
    "try:\n",
    "    if batch_size:\n",
    "        pass\n",
    "except NameError:\n",
    "    batch_size = 64\n",
    "\n",
    "save_model_path = './image_classification'\n",
    "n_samples = 4\n",
    "top_n_predictions = 3\n",
    "\n",
    "def test_model():\n",
    "    \"\"\"\n",
    "    Test the saved model against the test dataset\n",
    "    \"\"\"\n",
    "\n",
    "    test_features, test_labels = pickle.load(open('preprocess_training.p', mode='rb'))\n",
    "    loaded_graph = tf.Graph()\n",
    "\n",
    "    with tf.Session(graph=loaded_graph) as sess:\n",
    "        # Load model\n",
    "        loader = tf.train.import_meta_graph(save_model_path + '.meta')\n",
    "        loader.restore(sess, save_model_path)\n",
    "\n",
    "        # Get Tensors from loaded model\n",
    "        loaded_x = loaded_graph.get_tensor_by_name('x:0')\n",
    "        loaded_y = loaded_graph.get_tensor_by_name('y:0')\n",
    "        loaded_keep_prob = loaded_graph.get_tensor_by_name('keep_prob:0')\n",
    "        loaded_logits = loaded_graph.get_tensor_by_name('logits:0')\n",
    "        loaded_acc = loaded_graph.get_tensor_by_name('accuracy:0')\n",
    "        \n",
    "        # Get accuracy in batches for memory limitations\n",
    "        test_batch_acc_total = 0\n",
    "        test_batch_count = 0\n",
    "        \n",
    "        for train_feature_batch, train_label_batch in helper.batch_features_labels(test_features, test_labels, batch_size):\n",
    "            test_batch_acc_total += sess.run(\n",
    "                loaded_acc,\n",
    "                feed_dict={loaded_x: train_feature_batch, loaded_y: train_label_batch, loaded_keep_prob: 1.0})\n",
    "            test_batch_count += 1\n",
    "\n",
    "        print('Testing Accuracy: {}\\n'.format(test_batch_acc_total/test_batch_count))\n",
    "\n",
    "        # Print Random Samples\n",
    "        random_test_features, random_test_labels = tuple(zip(*random.sample(list(zip(test_features, test_labels)), n_samples)))\n",
    "        random_test_predictions = sess.run(\n",
    "            tf.nn.top_k(tf.nn.softmax(loaded_logits), top_n_predictions),\n",
    "            feed_dict={loaded_x: random_test_features, loaded_y: random_test_labels, loaded_keep_prob: 1.0})\n",
    "        helper.display_image_predictions(random_test_features, random_test_labels, random_test_predictions)\n",
    "\n",
    "\n",
    "test_model()"
   ]
  },
  {
   "cell_type": "markdown",
   "metadata": {
    "deletable": true,
    "editable": true
   },
   "source": [
    "## Why 50-70% Accuracy?\n",
    "You might be wondering why you can't get an accuracy any higher. First things first, 50% isn't bad for a simple CNN.  Pure guessing would get you 10% accuracy. However, you might notice people are getting scores [well above 70%](http://rodrigob.github.io/are_we_there_yet/build/classification_datasets_results.html#43494641522d3130).  That's because we haven't taught you all there is to know about neural networks. We still need to cover a few more techniques.\n",
    "## Submitting This Project\n",
    "When submitting this project, make sure to run all the cells before saving the notebook.  Save the notebook file as \"dlnd_image_classification.ipynb\" and save it as a HTML file under \"File\" -> \"Download as\".  Include the \"helper.py\" and \"problem_unittests.py\" files in your submission."
   ]
  }
 ],
 "metadata": {
  "kernelspec": {
   "display_name": "Python 3",
   "language": "python",
   "name": "python3"
  },
  "language_info": {
   "codemirror_mode": {
    "name": "ipython",
    "version": 3
   },
   "file_extension": ".py",
   "mimetype": "text/x-python",
   "name": "python",
   "nbconvert_exporter": "python",
   "pygments_lexer": "ipython3",
   "version": "3.5.3"
  }
 },
 "nbformat": 4,
 "nbformat_minor": 0
}
